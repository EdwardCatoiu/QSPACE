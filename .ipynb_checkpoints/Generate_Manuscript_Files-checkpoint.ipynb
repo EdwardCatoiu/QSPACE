{
 "cells": [
  {
   "cell_type": "code",
   "execution_count": 1,
   "metadata": {},
   "outputs": [],
   "source": [
    "import pandas as pd\n",
    "import os.path as op\n",
    "from tqdm import tqdm_notebook as tqdm\n",
    "from importlib import reload\n",
    "import ast\n",
    "import numpy as np\n",
    "from matplotlib_venn import venn2, venn2_circles, venn2_unweighted\n",
    "from matplotlib_venn import venn3, venn3_circles, venn3_unweighted\n",
    "from matplotlib import pyplot as plt\n",
    "import matplotlib.gridspec as gridspec\n",
    "%matplotlib inline"
   ]
  },
  {
   "cell_type": "markdown",
   "metadata": {},
   "source": [
    "# Fig 1"
   ]
  },
  {
   "cell_type": "code",
   "execution_count": 2,
   "metadata": {},
   "outputs": [
    {
     "data": {
      "text/plain": [
       "['DatasetS1_00_0_200000.csv',\n",
       " 'DatasetS1_01_200001_400000.csv',\n",
       " 'DatasetS1_02_400001_600000.csv',\n",
       " 'DatasetS1_03_600001_800000.csv',\n",
       " 'DatasetS1_04_800001_1000000.csv',\n",
       " 'DatasetS1_05_1000001_1200000.csv',\n",
       " 'DatasetS1_06_1200001_1400000.csv',\n",
       " 'DatasetS1_07_1400001_1600000.csv',\n",
       " 'DatasetS1_08_1600001_1800000.csv',\n",
       " 'DatasetS1_09_1800001_2000000.csv',\n",
       " 'DatasetS1_10_2000001_2200000.csv',\n",
       " 'DatasetS1_11_2200001_2400000.csv',\n",
       " 'DatasetS1_12_2400001_2600000.csv',\n",
       " 'DatasetS1_13_2600001_2699454.csv']"
      ]
     },
     "execution_count": 2,
     "metadata": {},
     "output_type": "execute_result"
    }
   ],
   "source": [
    "import os\n",
    "dataset_s1_files = []\n",
    "for f in os.listdir('Manuscript/SupplementaryMaterialData/DatasetS1/'):\n",
    "    if '.csv' in f:\n",
    "        dataset_s1_files +=[f]\n",
    "dataset_s1_files.sort()\n",
    "dataset_s1_files"
   ]
  },
  {
   "cell_type": "code",
   "execution_count": 3,
   "metadata": {
    "scrolled": true
   },
   "outputs": [
    {
     "name": "stderr",
     "output_type": "stream",
     "text": [
      "/usr/local/lib/python3.7/dist-packages/ipykernel_launcher.py:3: TqdmDeprecationWarning: This function will be removed in tqdm==5.0.0\n",
      "Please use `tqdm.notebook.tqdm` instead of `tqdm.tqdm_notebook`\n",
      "  This is separate from the ipykernel package so we can avoid doing imports until\n"
     ]
    },
    {
     "data": {
      "application/vnd.jupyter.widget-view+json": {
       "model_id": "b01829c523e2434682eb9379a6df52cb",
       "version_major": 2,
       "version_minor": 0
      },
      "text/plain": [
       "A Jupyter Widget"
      ]
     },
     "metadata": {},
     "output_type": "display_data"
    },
    {
     "name": "stderr",
     "output_type": "stream",
     "text": [
      "/usr/local/lib/python3.7/dist-packages/IPython/core/interactiveshell.py:3146: DtypeWarning: Columns (52,53,54,55,56,57,58,59,60,61,63,65,66,68,69,70,71,72,73,75,77,79,81) have mixed types.Specify dtype option on import or set low_memory=False.\n",
      "  interactivity=interactivity, compiler=compiler, result=result)\n",
      "/usr/local/lib/python3.7/dist-packages/IPython/core/interactiveshell.py:3146: DtypeWarning: Columns (51,52,53,54,55,56,57,58,59,61,62,63,65,66,67,68,69,70,71,72,73,74,75,76,77,78,79,81,85,86) have mixed types.Specify dtype option on import or set low_memory=False.\n",
      "  interactivity=interactivity, compiler=compiler, result=result)\n",
      "/usr/local/lib/python3.7/dist-packages/IPython/core/interactiveshell.py:3146: DtypeWarning: Columns (51,52,53,54,55,56,57,58,59,60,61,62,65,66,67,68,69,70,71,72,73,74,75,76,77,78,81,85,86) have mixed types.Specify dtype option on import or set low_memory=False.\n",
      "  interactivity=interactivity, compiler=compiler, result=result)\n",
      "/usr/local/lib/python3.7/dist-packages/IPython/core/interactiveshell.py:3146: DtypeWarning: Columns (51,52,54,55,56,57,58,59,60,61,63,65,66,68,69,70,71,72,73,74,75,77,78,79) have mixed types.Specify dtype option on import or set low_memory=False.\n",
      "  interactivity=interactivity, compiler=compiler, result=result)\n",
      "/usr/local/lib/python3.7/dist-packages/IPython/core/interactiveshell.py:3146: DtypeWarning: Columns (50,51,52,54,55,57,58,59,60,61,63,64,66,68,69,70,71,72,73,74,77) have mixed types.Specify dtype option on import or set low_memory=False.\n",
      "  interactivity=interactivity, compiler=compiler, result=result)\n",
      "/usr/local/lib/python3.7/dist-packages/IPython/core/interactiveshell.py:3146: DtypeWarning: Columns (50,51,52,53,54,55,56,57,58,59,60,61,62,63,64,66,67,68,69,70,71,72,73,74,75,76,77,78,80,81) have mixed types.Specify dtype option on import or set low_memory=False.\n",
      "  interactivity=interactivity, compiler=compiler, result=result)\n",
      "/usr/local/lib/python3.7/dist-packages/IPython/core/interactiveshell.py:3146: DtypeWarning: Columns (51,52,53,54,55,56,57,58,61,63,64,65,66,68,69,70,71,72,73,74,75,77) have mixed types.Specify dtype option on import or set low_memory=False.\n",
      "  interactivity=interactivity, compiler=compiler, result=result)\n",
      "/usr/local/lib/python3.7/dist-packages/IPython/core/interactiveshell.py:3146: DtypeWarning: Columns (51,52,53,54,55,56,57,58,59,61,63,64,66,68,69,70,71,72,73,74,75,77,78,79) have mixed types.Specify dtype option on import or set low_memory=False.\n",
      "  interactivity=interactivity, compiler=compiler, result=result)\n",
      "/usr/local/lib/python3.7/dist-packages/IPython/core/interactiveshell.py:3146: DtypeWarning: Columns (51,52,53,54,56,57,58,60,61,64,65,66,68,69,70,71,72,73,74,75,78,79) have mixed types.Specify dtype option on import or set low_memory=False.\n",
      "  interactivity=interactivity, compiler=compiler, result=result)\n",
      "/usr/local/lib/python3.7/dist-packages/IPython/core/interactiveshell.py:3146: DtypeWarning: Columns (50,51,52,53,54,55,56,57,58,59,60,61,64,66,68,69,70,71,72,73,74,75,77,78,79,81) have mixed types.Specify dtype option on import or set low_memory=False.\n",
      "  interactivity=interactivity, compiler=compiler, result=result)\n",
      "/usr/local/lib/python3.7/dist-packages/IPython/core/interactiveshell.py:3146: DtypeWarning: Columns (50,52,53,54,55,56,57,58,59,61,62,63,65,66,67,68,69,70,71,72,73,74,75,76,77,78,81,82) have mixed types.Specify dtype option on import or set low_memory=False.\n",
      "  interactivity=interactivity, compiler=compiler, result=result)\n",
      "/usr/local/lib/python3.7/dist-packages/IPython/core/interactiveshell.py:3146: DtypeWarning: Columns (50,51,52,53,54,55,56,57,58,60,61,65,66,68,69,70,71,72,73,74,75,77,79,81) have mixed types.Specify dtype option on import or set low_memory=False.\n",
      "  interactivity=interactivity, compiler=compiler, result=result)\n",
      "/usr/local/lib/python3.7/dist-packages/IPython/core/interactiveshell.py:3146: DtypeWarning: Columns (51,52,53,54,55,56,57,58,59,60,61,65,66,68,69,70,71,72,73,74,75,77,78,81) have mixed types.Specify dtype option on import or set low_memory=False.\n",
      "  interactivity=interactivity, compiler=compiler, result=result)\n",
      "/usr/local/lib/python3.7/dist-packages/IPython/core/interactiveshell.py:3146: DtypeWarning: Columns (51,52,54,55,56,57,58,59,61,64,65,66,68,69,70,71,72,73,74,75,77,78,81) have mixed types.Specify dtype option on import or set low_memory=False.\n",
      "  interactivity=interactivity, compiler=compiler, result=result)\n"
     ]
    },
    {
     "name": "stdout",
     "output_type": "stream",
     "text": [
      "\n"
     ]
    }
   ],
   "source": [
    "appender = []\n",
    "\n",
    "for f in tqdm(dataset_s1_files):\n",
    "    fp = op.join('Manuscript/SupplementaryMaterialData/DatasetS1', f)\n",
    "    dftemp = pd.read_csv(fp, index_col=0)\n",
    "    appender += list(dftemp.to_records(index = False))\n",
    "#     break\n"
   ]
  },
  {
   "cell_type": "code",
   "execution_count": 5,
   "metadata": {},
   "outputs": [],
   "source": [
    "dfQSPACE_gs = pd.DataFrame.from_records(appender, columns = dftemp.columns.tolist())"
   ]
  },
  {
   "cell_type": "raw",
   "metadata": {},
   "source": [
    "i = 0\n",
    "file_count = 0\n",
    "index_list  = []\n",
    "for index in dfQSPACE_gs.index.tolist():\n",
    "    index_list+=[index]\n",
    "\n",
    "    if i % 100000 ==0 and i != 0:\n",
    "        dftemp = dfQSPACE_gs[dfQSPACE_gs.index.isin(index_list)]\n",
    "        file_label = \"{}\".format(file_count)\n",
    "        if file_count < 10:\n",
    "            file_label = \"0{}\".format(file_count)\n",
    "\n",
    "        \n",
    "        dftemp.to_csv('Manuscript/SupplementaryMaterialData/DatasetS1/DatasetS1_{}_{}_{}.csv'.format(file_label,np.min(index_list), np.max(index_list)))\n",
    "        \n",
    "        index_list = []\n",
    "        i+=1\n",
    "        file_count +=1\n",
    "#         break\n",
    "        continue\n",
    "    i+=1\n",
    "    \n",
    "dftemp = dfQSPACE_gs[dfQSPACE_gs.index.isin(index_list)]\n",
    "file_label = \"{}\".format(file_count)\n",
    "if file_count < 10:\n",
    "    file_label = \"0{}\".format(file_count)\n",
    "\n",
    "\n",
    "dftemp.to_csv('Manuscript/SupplementaryMaterialData/DatasetS1/DatasetS1_{}_{}_{}.csv'.format(file_label,np.min(index_list), np.max(index_list)))\n"
   ]
  },
  {
   "cell_type": "raw",
   "metadata": {},
   "source": []
  },
  {
   "cell_type": "code",
   "execution_count": 6,
   "metadata": {},
   "outputs": [],
   "source": [
    "def uniqueGenomePostions(df):\n",
    "    geneDict = df['gene'].to_dict()\n",
    "    geneSeqIdDict = df['geneSeqId'].to_dict()\n",
    "    geneSeqNumDict = df['seqNum'].to_dict()\n",
    "    geneSeqAA1Dict = df['seqAA1'].to_dict()\n",
    "\n",
    "\n",
    "    global_genome_positions = {}\n",
    "    for index , gene in tqdm(geneDict.items()):\n",
    "        seq_id = geneSeqIdDict[index]\n",
    "        seq_num = geneSeqNumDict[index]\n",
    "        seq_aa1 = geneSeqAA1Dict[index]\n",
    "\n",
    "        glob_id = \"{}&{}&{}&{}\".format(gene,seq_id,seq_num,seq_aa1)\n",
    "\n",
    "        global_genome_positions.update({index : glob_id})\n",
    "\n",
    "    df['UniqueGenomePosition'] = pd.Series(global_genome_positions)\n",
    "    return df\n",
    "\n",
    "def panel1E(df):\n",
    "    cplxList = df.cplx.unique()\n",
    "    genesList = df.gene.unique()\n",
    "    structuresList = df.structureId.unique()\n",
    "    num_AAs = len(df)\n",
    "    unique_genome_positions =  df.UniqueGenomePosition.unique()\n",
    "\n",
    "    print (\"Number of Genes       : {}\".format(len(genesList)))\n",
    "    print (\"Number of Enzymes     : {}\".format(len(cplxList)))\n",
    "\n",
    "    print (\"Number of Structures  : {}\".format(len(structuresList)))\n",
    "    print (\"Number of Amino Acids : {}\".format(num_AAs))\n",
    "    print (\"Number of Genome Positions : {}\".format(len(unique_genome_positions)))"
   ]
  },
  {
   "cell_type": "markdown",
   "metadata": {},
   "source": [
    "##### Panel 1E"
   ]
  },
  {
   "cell_type": "code",
   "execution_count": 9,
   "metadata": {},
   "outputs": [
    {
     "name": "stderr",
     "output_type": "stream",
     "text": [
      "/usr/local/lib/python3.7/dist-packages/ipykernel_launcher.py:9: TqdmDeprecationWarning: This function will be removed in tqdm==5.0.0\n",
      "Please use `tqdm.notebook.tqdm` instead of `tqdm.tqdm_notebook`\n",
      "  if __name__ == '__main__':\n"
     ]
    },
    {
     "data": {
      "application/vnd.jupyter.widget-view+json": {
       "model_id": "f6af1690a9d34ad3a37cbe7d27cb9c4f",
       "version_major": 2,
       "version_minor": 0
      },
      "text/plain": [
       "A Jupyter Widget"
      ]
     },
     "metadata": {},
     "output_type": "display_data"
    },
    {
     "name": "stdout",
     "output_type": "stream",
     "text": [
      "\n",
      "Number of Genes       : 4309\n",
      "Number of Enzymes     : 3985\n",
      "Number of Structures  : 4094\n",
      "Number of Amino Acids : 2699455\n",
      "Number of Genome Positions : 1343732\n"
     ]
    }
   ],
   "source": [
    "dfQSPACE_gs = uniqueGenomePostions(dfQSPACE_gs)\n",
    "panel1E(dfQSPACE_gs)"
   ]
  },
  {
   "cell_type": "markdown",
   "metadata": {},
   "source": [
    "##### Panel 1F"
   ]
  },
  {
   "cell_type": "code",
   "execution_count": 10,
   "metadata": {},
   "outputs": [
    {
     "data": {
      "text/plain": [
       "<module '_figuresModule._fig1' from '/home/ecatoiu/Projects/QSPACE/_figuresModule/_fig1.py'>"
      ]
     },
     "execution_count": 10,
     "metadata": {},
     "output_type": "execute_result"
    }
   ],
   "source": [
    "from _figuresModule import _fig1\n",
    "reload(_fig1)"
   ]
  },
  {
   "cell_type": "code",
   "execution_count": 15,
   "metadata": {
    "scrolled": true
   },
   "outputs": [
    {
     "data": {
      "text/plain": [
       "Index(['cplx', 'gene', 'geneSeqId', 'seqNum', 'seqAA1', 'structureId',\n",
       "       'structureStoich', 'matchType', 'structNum', 'structAA1', 'structChain',\n",
       "       'structChainId', 'structChainId_mod', 'Chain_Residue', 'sfileChainId',\n",
       "       'sfileChain_Residue', '005F_Protein_Compartment', '005F_AA_Compartment',\n",
       "       '006A_disembl_coils', '006A_disembl_rem465', '006A_disembl_hotloops',\n",
       "       '006B_SCRATCH_ss', '006B_SCRATCH_acc', '006B_SCRATCH_acc20',\n",
       "       '006B_SCRATCH_ss8', '006C_MSMS_residue_depth',\n",
       "       '006C_MSMS_alphacarbon_depth', '006D_Disfulfide_Bridges_3A',\n",
       "       '006E_ppInterface_ScanNet', '006E_ppInterface_Geometry_10Angs',\n",
       "       '006E_ppInterface_Geometry_3Angs', '006E_ppInterface_Geometry_5Angs',\n",
       "       '006E_ppInterface_Geometry_7.5Angs', '006F_DSSP_aa', '006F_DSSP_phi',\n",
       "       '006F_DSSP_psi', '006F_DSSP_O_NH_1_energy', '006F_DSSP_O_NH_2_energy',\n",
       "       '006F_DSSP_ss', '006F_DSSP_NH_O_1_energy', '006F_DSSP_NH_O_2_energy',\n",
       "       '006F_DSSP_NH_O_1_relidx', '006F_DSSP_O_NH_1_relidx',\n",
       "       '006F_DSSP_NH_O_2_relidx', '006F_DSSP_O_NH_2_relidx',\n",
       "       '006F_DSSP_exposure_asa', '006F_DSSP_exposure_rsa', '006F_DSSP_max_acc',\n",
       "       '006F_DSSP_aa_three', '007A_FunctionalDomains_NON_STD',\n",
       "       '007A_FunctionalDomains_DOMAIN', '007A_FunctionalDomains_REPEAT',\n",
       "       '007A_FunctionalDomains_TRANSMEM', '007A_FunctionalDomains_DNA_BIND',\n",
       "       '007A_FunctionalDomains_BINDING', '007A_FunctionalDomains_METAL',\n",
       "       '007A_FunctionalDomains_COMPBIAS', '007A_FunctionalDomains_SITE',\n",
       "       '007A_FunctionalDomains_MUTAGEN', '007A_FunctionalDomains_ZN_FING',\n",
       "       '007A_FunctionalDomains_DISULFID', '007A_FunctionalDomains_HELIX',\n",
       "       '007A_FunctionalDomains_PEPTIDE', '007A_FunctionalDomains_PROPEP',\n",
       "       '007A_FunctionalDomains_VAR_SEQ', '007A_FunctionalDomains_INIT_MET',\n",
       "       '007A_FunctionalDomains_STRAND', '007A_FunctionalDomains_MOD_RES',\n",
       "       '007A_FunctionalDomains_NP_BIND', '007A_FunctionalDomains_MOTIF',\n",
       "       '007A_FunctionalDomains_LIPID', '007A_FunctionalDomains_SIGNAL',\n",
       "       '007A_FunctionalDomains_VARIANT', '007A_FunctionalDomains_ACT_SITE',\n",
       "       '007A_FunctionalDomains_TOPO_DOM', '007A_FunctionalDomains_TURN',\n",
       "       '007A_FunctionalDomains_COILED', '007A_FunctionalDomains_REGION',\n",
       "       '007A_FunctionalDomains_INTRAMEM', '007A_FunctionalDomains_CA_BIND',\n",
       "       '007A_FunctionalDomains_CONFLICT', '007A_FunctionalDomains_CROSSLNK',\n",
       "       '007B_LabMutant_ALE_csvIndex', '007B_LabMutant_ALE_VariantGS',\n",
       "       '007C_LabMutant_LTEE_csvIndex', '007C_LabMutant_LTEE_VariantGS',\n",
       "       '007D_WT_alleleome_dfzIndex', '007D_WT_alleleome_Codon_DominantWTFreq',\n",
       "       '007D_WT_alleleome_Codon_WTVariants',\n",
       "       '007D_WT_alleleome_AA_DominantWTFreq',\n",
       "       '007D_WT_alleleome_AA_WTVariants', 'UniqueGenomePosition'],\n",
       "      dtype='object')"
      ]
     },
     "execution_count": 15,
     "metadata": {},
     "output_type": "execute_result"
    }
   ],
   "source": [
    "dfQSPACE_gs.columns\n"
   ]
  },
  {
   "cell_type": "code",
   "execution_count": 16,
   "metadata": {},
   "outputs": [],
   "source": [
    "skeleton_cols = ['cplx','gene','geneSeqId','seqNum','seqAA1','structureId','structureStoich',\n",
    "                 'matchType','structNum','structAA1','structChain','structChainId', \n",
    "                 'structChainId_mod', 'Chain_Residue', 'sfileChainId', 'sfileChain_Residue',]"
   ]
  },
  {
   "cell_type": "code",
   "execution_count": 17,
   "metadata": {},
   "outputs": [
    {
     "data": {
      "application/vnd.jupyter.widget-view+json": {
       "model_id": "0d7bbed035a74bb1bd2386c1eeb95d43",
       "version_major": 2,
       "version_minor": 0
      },
      "text/plain": [
       "A Jupyter Widget"
      ]
     },
     "metadata": {},
     "output_type": "display_data"
    },
    {
     "name": "stdout",
     "output_type": "stream",
     "text": [
      "\n"
     ]
    },
    {
     "data": {
      "image/png": "[encoded data removed]",
      "text/plain": [
       "<Figure size 432x288 with 1 Axes>"
      ]
     },
     "metadata": {
      "needs_background": "light"
     },
     "output_type": "display_data"
    }
   ],
   "source": [
    "#inputs QPSACE-GS Supp Data 1\n",
    "fig, ax =_fig1.fig1_F(dfskeleton = dfQSPACE_gs[skeleton_cols])\n",
    "for ax in [ax]:\n",
    "    ax.tick_params(axis='both', which='major', labelsize=14,length = 8, width = 1.5,)\n",
    "    ax.tick_params(axis='both', which='minor', labelsize=14,length = 4, width = 1.5)\n",
    "fig.savefig('Manuscript/GeneratedFigures/Fig1F.png',dpi = 300,transparent = True, bbox_inches = 'tight')\n",
    "plt.show()"
   ]
  },
  {
   "cell_type": "markdown",
   "metadata": {},
   "source": [
    "##### Panel 1G"
   ]
  },
  {
   "cell_type": "code",
   "execution_count": 18,
   "metadata": {},
   "outputs": [
    {
     "data": {
      "text/plain": [
       "{'\\\\alpha - helix': 564656,\n",
       " '\\\\Beta sheet': 242348,\n",
       " 'Metal Binding': 2757,\n",
       " 'Active Site': 1155,\n",
       " 'DNA Binding': 7151,\n",
       " 'Disulfide Bridge': 1050,\n",
       " 'Inner Membrane (Embedded)': 147621,\n",
       " 'Outer Membrane (Embedded)': 12631,\n",
       " 'Inner Membrane (Bulb)': 238935,\n",
       " 'Outer Membrane (Bulb)': 33918,\n",
       " 'Protein-Protein Interface': 36526,\n",
       " 'Disordered Regions': 221939,\n",
       " 'LTEE Mutant': 10365,\n",
       " 'ALE Mutant': 42785,\n",
       " 'WT AA Variation > 10%': 29505}"
      ]
     },
     "execution_count": 18,
     "metadata": {},
     "output_type": "execute_result"
    }
   ],
   "source": [
    "categoriesDict  = {}\n",
    "#structural properties\n",
    "categoriesDict.update({r'\\alpha - helix' : len(dfQSPACE_gs[dfQSPACE_gs.get('006F_DSSP_ss') =='H'].UniqueGenomePosition.unique())})\n",
    "categoriesDict.update({r'\\Beta sheet' : len(dfQSPACE_gs[dfQSPACE_gs.get('006F_DSSP_ss') =='E'].UniqueGenomePosition.unique())})\n",
    "#functional domains\n",
    "categoriesDict.update({'Metal Binding' : len(dfQSPACE_gs[dfQSPACE_gs.get('007A_FunctionalDomains_METAL').isna() == False].UniqueGenomePosition.unique())})\n",
    "categoriesDict.update({'Active Site' : len(dfQSPACE_gs[dfQSPACE_gs.get('007A_FunctionalDomains_ACT_SITE').isna() == False].UniqueGenomePosition.unique())})\n",
    "categoriesDict.update({'DNA Binding' : len(dfQSPACE_gs[dfQSPACE_gs.get('007A_FunctionalDomains_DNA_BIND').isna() == False].UniqueGenomePosition.unique())})\n",
    "categoriesDict.update({'Disulfide Bridge' : len(dfQSPACE_gs[dfQSPACE_gs.get('006D_Disfulfide_Bridges_3A').isna() == False].UniqueGenomePosition.unique())})\n",
    "#compartments\n",
    "kw = ['IM-IM_2-Embedded','IM-IM_1-Embedded','IM-Cytoplasmic-Embedded','IM-Periplasmic_C-Embedded',]\n",
    "dfdata = dfQSPACE_gs[dfQSPACE_gs.get('005F_AA_Compartment').isin(kw)]\n",
    "categoriesDict.update({'Inner Membrane (Embedded)' : len(dfdata.UniqueGenomePosition.unique())})\n",
    "kw = ['OM-Periplasmic_E-Embedded', 'OM-Extracellular-Embedded', 'OM-OM_1-Embedded', 'OM-OM_2-Embedded',]\n",
    "dfdata = dfQSPACE_gs[dfQSPACE_gs.get('005F_AA_Compartment').isin(kw)]\n",
    "categoriesDict.update({'Outer Membrane (Embedded)' : len(dfdata.UniqueGenomePosition.unique())})\n",
    "kw = ['IM-IM_2-Bulb','IM-IM_1-Bulb','IM-Cytoplasmic-Bulb','IM-Periplasmic_C-Bulb',]\n",
    "dfdata = dfQSPACE_gs[dfQSPACE_gs.get('005F_AA_Compartment').isin(kw)]\n",
    "categoriesDict.update({'Inner Membrane (Bulb)' : len(dfdata.UniqueGenomePosition.unique())})\n",
    "kw = ['OM-Periplasmic_E-Bulb', 'OM-Extracellular-Bulb', 'OM-OM_1-Bulb', 'OM-OM_2-Bulb',]\n",
    "dfdata = dfQSPACE_gs[dfQSPACE_gs.get('005F_AA_Compartment').isin(kw)]\n",
    "categoriesDict.update({'Outer Membrane (Bulb)' : len(dfdata.UniqueGenomePosition.unique())})\n",
    "#scannet interface\n",
    "dfdata = dfQSPACE_gs[dfQSPACE_gs.get('006E_ppInterface_ScanNet') >= 0.85]\n",
    "categoriesDict.update({'Protein-Protein Interface' : len(dfdata.UniqueGenomePosition.unique())})\n",
    "#disorder\n",
    "dfdata = dfQSPACE_gs[dfQSPACE_gs.get( '006A_disembl_hotloops') == 1]\n",
    "categoriesDict.update({'Disordered Regions' : len(dfdata.UniqueGenomePosition.unique())})\n",
    "#mutations\n",
    "dfdata = dfQSPACE_gs[dfQSPACE_gs.get( '007C_LabMutant_LTEE_VariantGS').isna()== False]\n",
    "categoriesDict.update({'LTEE Mutant' : len(dfdata.UniqueGenomePosition.unique())})\n",
    "dfdata = dfQSPACE_gs[dfQSPACE_gs.get( '007B_LabMutant_ALE_VariantGS').isna()== False]\n",
    "categoriesDict.update({'ALE Mutant' : len(dfdata.UniqueGenomePosition.unique())})\n",
    "dfdata = dfQSPACE_gs[dfQSPACE_gs.get('007D_WT_alleleome_AA_DominantWTFreq') <0.9]\n",
    "categoriesDict.update({'WT AA Variation > 10%' : len(dfdata.UniqueGenomePosition.unique())})\n",
    "\n",
    "categoriesDict"
   ]
  },
  {
   "cell_type": "code",
   "execution_count": 19,
   "metadata": {},
   "outputs": [
    {
     "data": {
      "image/png": "[encoded data removed]",
      "text/plain": [
       "<Figure size 288x288 with 1 Axes>"
      ]
     },
     "metadata": {
      "needs_background": "light"
     },
     "output_type": "display_data"
    }
   ],
   "source": [
    "fig, ax = plt.subplots()\n",
    "fig.set_figwidth(4)\n",
    "\n",
    "\n",
    "labels = [r'\\alpha - helix',\n",
    "          r'\\Beta sheet',\n",
    "          'Disordered Regions',\n",
    "          'Disulfide Bridge',\n",
    "          'Protein-Protein Interface',\n",
    "\n",
    "          'Active Site',\n",
    "          'DNA Binding',\n",
    "          'Metal Binding',\n",
    "          \n",
    "          'LTEE Mutant',\n",
    "          'ALE Mutant',\n",
    "          'WT AA Variation > 10%',\n",
    "          \n",
    "          'Outer Membrane (Embedded)',\n",
    "          'Outer Membrane (Bulb)',\n",
    "          'Inner Membrane (Embedded)',\n",
    "          'Inner Membrane (Bulb)',\n",
    "          \n",
    "         ]\n",
    "labels.reverse()\n",
    "for i, cat in enumerate(labels):\n",
    "    if cat in [r'\\alpha - helix', r'\\Beta sheet', 'Disordered Regions', 'Disulfide Bridge','Protein-Protein Interface',]:\n",
    "        color = '#B9C8E3'\n",
    "    if cat in ['ALE Mutant','LTEE Mutant','WT AA Variation > 10%']:\n",
    "        color = '#FF9BA0'\n",
    "    if cat in ['Active Site', 'DNA Binding', 'Metal Binding',]:\n",
    "        color = '#A1CABA'\n",
    "    \n",
    "    if cat in [ 'Outer Membrane (Embedded)', 'Outer Membrane (Bulb)',]:\n",
    "        color = u'#DAD68A'\n",
    "    if cat in ['Inner Membrane (Embedded)','Inner Membrane (Bulb)',]:\n",
    "        color = u'#DAD68A'\n",
    "    data = categoriesDict[cat]\n",
    "    ax.barh(i, data, color = color,alpha = 1)\n",
    "#     labels +=[cat]\n",
    "\n",
    "labels = ['(Bulb) Inner Membrane',\n",
    "          '(Embedded) Inner Membrane',\n",
    "          '(Bulb) Outer Membrane',\n",
    "          '(Embedded) Outer Membrane',\n",
    "          'WT AA Variation > 10%',\n",
    "          'ALE Mutant',      \n",
    "          'LTEE Mutant',\n",
    "          'Metal Binding',\n",
    "          'DNA Binding',\n",
    "          'Active Site',\n",
    "          'Protein-Protein Interface',\n",
    "          'S-S Bridge',\n",
    "          'Disordered Region',\n",
    "          r'$\\beta$ - sheet',\n",
    "          r'$\\alpha$ - helix']\n",
    "\n",
    "ax.set_yticks(np.linspace(0,14,15) )\n",
    "ax.set_ylim(-1.2,15.2)\n",
    "ax.set_yticklabels( labels )\n",
    "ax.set_xlim(100,10e5)\n",
    "ax.set_xscale('log')\n",
    "ax.set_xlabel('Codons Involved\\n(Unique Genome Position)')\n",
    "for ax in [ax]:\n",
    "    ax.tick_params(axis='both', which='major', labelsize=14,length = 8, width = 1.5,)\n",
    "    ax.tick_params(axis='both', which='minor', labelsize=14,length = 4, width = 1.5)\n",
    "    \n",
    "fig.savefig('Manuscript/GeneratedFigures/Fig1G.png',dpi = 300,transparent = True, bbox_inches = 'tight')\n"
   ]
  },
  {
   "cell_type": "markdown",
   "metadata": {},
   "source": [
    "# Fig. 2"
   ]
  },
  {
   "cell_type": "code",
   "execution_count": null,
   "metadata": {},
   "outputs": [],
   "source": [
    "from _figuresModule import _fig2\n",
    "reload(_fig2)"
   ]
  },
  {
   "cell_type": "markdown",
   "metadata": {},
   "source": [
    "##### Panel 2B"
   ]
  },
  {
   "cell_type": "code",
   "execution_count": null,
   "metadata": {},
   "outputs": [],
   "source": [
    "dfProtToStructMatches = pd.read_csv('Manuscript/SelectedOutputData/004A-BFS_best_match_for_3985_protein_complexes.csv', index_col = 0 )\n",
    "fig, ax = _fig2.fig2_B(dfProtToStructMatches, fig = False, ax = False, save = False)\n",
    "ax.set_ylabel(\"Structures Used\", size = 15)\n",
    "fig.savefig('Manuscript/GeneratedFigures/Fig2B.png',dpi = 300,transparent = True, bbox_inches = 'tight')"
   ]
  },
  {
   "cell_type": "markdown",
   "metadata": {},
   "source": [
    "##### Panel 2C"
   ]
  },
  {
   "cell_type": "code",
   "execution_count": null,
   "metadata": {},
   "outputs": [],
   "source": [
    "from _figuresModule import _fig2\n",
    "reload(_fig2)\n",
    "\n",
    "dfProtToStructMatches = pd.read_csv('Manuscript/SelectedOutputData/004A-BFS_best_match_for_3985_protein_complexes.csv', index_col = 0 )\n",
    "proteinTargetsOld = pd.read_csv('Manuscript/SelectedOutputData/003A-enzyme_targets_prior_to_BFS.csv',index_col=0,engine='python')\n",
    "proteinTargetsNew = pd.read_csv('Manuscript/SelectedOutputData/003B-enzyme_targets_with_new_oligomers.csv',index_col=0,engine='python')\n",
    "fig, ax = _fig2.fig2_C(dfqual = dfProtToStructMatches,\n",
    "                       proteinTargetsOld = proteinTargetsOld,\n",
    "                       proteinTargetsNew = proteinTargetsNew,\n",
    "                      )\n",
    "fig.savefig('Manuscript/GeneratedFigures/Fig2C.png',dpi = 300,transparent = True, bbox_inches = 'tight')"
   ]
  },
  {
   "cell_type": "markdown",
   "metadata": {},
   "source": [
    "##### Panel 2D"
   ]
  },
  {
   "cell_type": "code",
   "execution_count": null,
   "metadata": {},
   "outputs": [],
   "source": [
    "from _figuresModule import _fig2\n",
    "reload(_fig2)\n",
    "\n",
    "dfProtToStructMatches = pd.read_csv('Manuscript/SelectedOutputData/004A-BFS_best_match_for_3985_protein_complexes.csv', index_col = 0 )\n",
    "proteinTargetsNew = pd.read_csv('Manuscript/SelectedOutputData/003B-enzyme_targets_with_new_oligomers.csv',index_col=0,engine='python')\n",
    "\n",
    "fig,ax = _fig2.fig2_D(dfqual = dfProtToStructMatches,\n",
    "                      proteinTargetsNew = proteinTargetsNew,\n",
    "                     )\n",
    "fig.savefig('Manuscript/GeneratedFigures/Fig2D.png',dpi = 300,transparent = True, bbox_inches = 'tight')"
   ]
  },
  {
   "cell_type": "markdown",
   "metadata": {},
   "source": [
    "# Fig. 3 "
   ]
  },
  {
   "cell_type": "markdown",
   "metadata": {},
   "source": [
    "used PDB:2GRX in manuscript"
   ]
  },
  {
   "cell_type": "markdown",
   "metadata": {},
   "source": [
    "##### Panel 3A - FUNCTIONAL REGIONS"
   ]
  },
  {
   "cell_type": "code",
   "execution_count": null,
   "metadata": {},
   "outputs": [],
   "source": [
    "import nglview"
   ]
  },
  {
   "cell_type": "code",
   "execution_count": null,
   "metadata": {},
   "outputs": [],
   "source": [
    "functional_cols = ['007A_FunctionalDomains_DOMAIN', '007A_FunctionalDomains_DNA_BIND',\n",
    "                   '007A_FunctionalDomains_BINDING', '007A_FunctionalDomains_METAL',\n",
    "                   '007A_FunctionalDomains_SITE','006D_Disfulfide_Bridges_3A',\n",
    "                   '007A_FunctionalDomains_NP_BIND', '007A_FunctionalDomains_MOTIF',\n",
    "                   '007A_FunctionalDomains_ACT_SITE',\n",
    "                   '007A_FunctionalDomains_COILED', '007A_FunctionalDomains_REGION',\n",
    "                   '007A_FunctionalDomains_CA_BIND',]\n",
    "\n",
    "dfs = dfQSPACE_gs[dfQSPACE_gs.structureId =='AF-P06971-F1-model_v2']\n",
    "dfs_func = dfs[functional_cols].dropna(how = 'all')\n",
    "dfs_func = dfs_func.dropna(how = 'all',axis = 1)\n",
    "cols = ['sfileChain_Residue','007A_FunctionalDomains_BINDING',\n",
    "        '007A_FunctionalDomains_MOTIF','007A_FunctionalDomains_REGION','006D_Disfulfide_Bridges_3A']\n",
    "dfs_func = dfs[dfs.index.isin(dfs_func.index)][cols]\n",
    "dfs_func.head()"
   ]
  },
  {
   "cell_type": "code",
   "execution_count": null,
   "metadata": {},
   "outputs": [],
   "source": [
    "v = nglview.show_structure_file('Manuscript/SelectedOutputData/AF-P06971-F1-model_v2.pdb')\n",
    "v.clear_representations()\n",
    "v.add_rope(selection = 'protein', color = 'grey')\n",
    "\n",
    "#ferrichrom orange\n",
    "dftemp= dfs_func[dfs_func.get(\"007A_FunctionalDomains_BINDING\").isna() == False]\n",
    "for cr in  dftemp.sfileChain_Residue.tolist():\n",
    "    [c,r] = cr.split('_')\n",
    "    v.add_surface(\":{} and ({} and not hydrogen)\".format(c,r), color = 'orange')\n",
    "\n",
    "# s-s cyan\n",
    "dftemp= dfs_func[dfs_func.get(\"006D_Disfulfide_Bridges_3A\").isna() == False]\n",
    "for cr in  dftemp.sfileChain_Residue.tolist():\n",
    "    [c,r] = cr.split('_')\n",
    "    v.add_surface(\":{} and ({} and not hydrogen)\".format(c,r), color = 'cyan')\n",
    "    \n",
    "dftemp= dfs_func[dfs_func.get(\"007A_FunctionalDomains_MOTIF\") == str(['/note=\"TonB box\"'])]\n",
    "for cr in  dftemp.sfileChain_Residue.tolist():\n",
    "    [c,r] = cr.split('_')\n",
    "    v.add_surface(\":{} and ({} and not hydrogen)\".format(c,r), color = 'yellow')\n",
    "\n",
    "dftemp= dfs_func[dfs_func.get(\"007A_FunctionalDomains_MOTIF\") == str(['/note=\"TonB C-terminal box\"'])]\n",
    "for cr in  dftemp.sfileChain_Residue.tolist():\n",
    "    [c,r] = cr.split('_')\n",
    "    v.add_surface(\":{} and ({} and not hydrogen)\".format(c,r), color = 'pink')\n",
    "    \n",
    "v"
   ]
  },
  {
   "cell_type": "markdown",
   "metadata": {},
   "source": [
    "##### PANEL 3A - ALE MUTANTS"
   ]
  },
  {
   "cell_type": "code",
   "execution_count": null,
   "metadata": {},
   "outputs": [],
   "source": [
    "functional_cols = ['007B_LabMutant_ALE_VariantGS','007C_LabMutant_LTEE_VariantGS']\n",
    "\n",
    "dfs = dfQSPACE_gs[dfQSPACE_gs.structureId =='AF-P06971-F1-model_v2']\n",
    "\n",
    "dfs_func = dfs[functional_cols].dropna(how = 'all')\n",
    "dfs_func = dfs_func.dropna(how = 'all',axis = 1)\n",
    "cols = functional_cols + ['sfileChain_Residue']\n",
    "dfs_func = dfs[dfs.index.isin(dfs_func.index)][cols]\n",
    "\n",
    "import seaborn as sns\n",
    "colors = sns.color_palette('RdYlBu_r',230).as_hex()\n",
    "sns.palplot(colors)\n",
    "\n",
    "v = nglview.show_structure_file('Manuscript/SelectedOutputData/AF-P06971-F1-model_v2.pdb')\n",
    "v.clear_representations()\n",
    "v.add_rope(selection = 'protein', color = 'grey')\n",
    "\n",
    "#ferrichrom orange\n",
    "key = \"007B_LabMutant_ALE_VariantGS\"\n",
    "dftemp= dfs_func[dfs_func.get(key).isna() == False]\n",
    "for index,  cr in  dftemp.sfileChain_Residue.to_dict().items():\n",
    "    [c,r] = cr.split('_')\n",
    "    \n",
    "    mut = ast.literal_eval(dftemp.loc[index,key])\n",
    "    color = colors[np.max(list(mut.values()))]\n",
    "    v.add_surface(\":{} and ({} and not hydrogen)\".format(c,r), color = color)\n",
    "\n",
    "    \n",
    "v"
   ]
  },
  {
   "cell_type": "markdown",
   "metadata": {},
   "source": [
    "##### PANEL 3A - LTEE MUTANTS"
   ]
  },
  {
   "cell_type": "code",
   "execution_count": null,
   "metadata": {},
   "outputs": [],
   "source": [
    "functional_cols = ['007B_LabMutant_ALE_VariantGS','007C_LabMutant_LTEE_VariantGS']\n",
    "\n",
    "dfs = dfQSPACE_gs[dfQSPACE_gs.structureId =='AF-P06971-F1-model_v2']\n",
    "\n",
    "dfs_func = dfs[functional_cols].dropna(how = 'all')\n",
    "dfs_func = dfs_func.dropna(how = 'all',axis = 1)\n",
    "cols = functional_cols + ['sfileChain_Residue']\n",
    "dfs_func = dfs[dfs.index.isin(dfs_func.index)][cols]\n",
    "dfs_func.head()\n",
    "\n",
    "import seaborn as sns\n",
    "colors = sns.color_palette('RdYlBu_r',230).as_hex()\n",
    "sns.palplot(colors)\n",
    "\n",
    "v = nglview.show_structure_file('Manuscript/SelectedOutputData/AF-P06971-F1-model_v2.pdb')\n",
    "v.clear_representations()\n",
    "v.add_rope(selection = 'protein', color = 'grey')\n",
    "\n",
    "#ferrichrom orange\n",
    "key = \"007C_LabMutant_LTEE_VariantGS\"\n",
    "dftemp= dfs_func[dfs_func.get(key).isna() == False]\n",
    "for index,  cr in  dftemp.sfileChain_Residue.to_dict().items():\n",
    "    [c,r] = cr.split('_')\n",
    "    \n",
    "    mut = ast.literal_eval(dftemp.loc[index,key])\n",
    "    color = colors[np.max(list(mut.values()))]\n",
    "    v.add_surface(\":{} and ({} and not hydrogen)\".format(c,r), color = color)\n",
    "\n",
    "    \n",
    "v"
   ]
  },
  {
   "cell_type": "markdown",
   "metadata": {},
   "source": [
    "##### Panel 3A WT variation"
   ]
  },
  {
   "cell_type": "code",
   "execution_count": null,
   "metadata": {},
   "outputs": [],
   "source": [
    "import seaborn as sns\n",
    "colors = sns.color_palette('RdYlGn',51).as_hex()\n",
    "sns.palplot(colors)\n",
    "\n",
    "dfs = dfQSPACE_gs[dfQSPACE_gs.structureId =='AF-P06971-F1-model_v2']\n",
    "key = '007D_WT_alleleome_AA_DominantWTFreq'\n",
    "\n",
    "n, bins = np.histogram(dfs.get(key).values, bins = np.linspace(0.5,1,51))\n",
    "\n",
    "prev_i = 0 \n",
    "prev_bin = 0.5\n",
    "colors_series = {}\n",
    "key = '007D_WT_alleleome_AA_DominantWTFreq'\n",
    "for i , bin_value in enumerate(bins):\n",
    "    if i == 0:\n",
    "        continue\n",
    "    dft = dfs[dfs.get(key) >= prev_bin]\n",
    "    dft = dft[dft.get(key) < bin_value]\n",
    "    for index in dft.index.tolist():\n",
    "        colors_series.update({index : colors[i]})\n",
    "    prev_bin = bin_value\n",
    "    prev_i = i\n",
    "    \n",
    "#     if bin_value > .70:\n",
    "#         break\n",
    "\n",
    "dft = dfs[dfs.get(key) == 1]    \n",
    "for index in dft.index.tolist():\n",
    "    colors_series.update({index : colors[i]})\n",
    "dfs['color_to_plot']  = pd.Series(colors_series)\n",
    "\n",
    "v = nglview.show_structure_file('Manuscript/SelectedOutputData/AF-P06971-F1-model_v2.pdb')\n",
    "v.clear_representations()\n",
    "v.add_rope(selection = 'protein', color = 'grey')\n",
    "\n",
    "for index, row in dfs[dfs.color_to_plot.isna() == False].iterrows():\n",
    "    if row.get(key)>0.9:\n",
    "        continue\n",
    "    [c,r] = row.sfileChain_Residue.split('_')\n",
    "    v.add_surface(\":{} and ({} and not hydrogen)\".format(c,r), color = row.color_to_plot)\n",
    "v"
   ]
  },
  {
   "cell_type": "markdown",
   "metadata": {},
   "source": [
    "##### Panel 3B - venn diagram"
   ]
  },
  {
   "cell_type": "code",
   "execution_count": null,
   "metadata": {},
   "outputs": [],
   "source": [
    "key = \"007B_LabMutant_ALE_VariantGS\"\n",
    "dfs[dfs.get(key).isna() == False][key]\n",
    "\n",
    "dfs = dfQSPACE_gs[dfQSPACE_gs.structureId =='AF-P06971-F1-model_v2']\n",
    "\n",
    "key = '007D_WT_alleleome_AA_DominantWTFreq'\n",
    "wt_index = set(dfs[dfs.get(key)<0.9].index.tolist())\n",
    "\n",
    "key = \"007C_LabMutant_LTEE_VariantGS\"\n",
    "ltee_index = set(dfs[dfs.get(key).isna() == False].index.tolist())\n",
    "\n",
    "key = \"007B_LabMutant_ALE_VariantGS\"\n",
    "ale_index = set(dfs[dfs.get(key).isna() == False].index.tolist())\n",
    "\n",
    "\n",
    "\n",
    "\n",
    "functional_cols = ['007A_FunctionalDomains_DOMAIN', '007A_FunctionalDomains_DNA_BIND',\n",
    "                   '007A_FunctionalDomains_BINDING', '007A_FunctionalDomains_METAL',\n",
    "                   '007A_FunctionalDomains_SITE','006D_Disfulfide_Bridges_3A',\n",
    "                   '007A_FunctionalDomains_NP_BIND', '007A_FunctionalDomains_MOTIF',\n",
    "                   '007A_FunctionalDomains_ACT_SITE',\n",
    "                   '007A_FunctionalDomains_COILED', '007A_FunctionalDomains_REGION',\n",
    "                   '007A_FunctionalDomains_CA_BIND',]\n",
    "\n",
    "dfs = dfQSPACE_gs[dfQSPACE_gs.structureId =='AF-P06971-F1-model_v2']\n",
    "dfs_func = dfs[functional_cols].dropna(how = 'all')\n",
    "dfs_func = dfs_func.dropna(how = 'all',axis = 1)\n",
    "cols = ['sfileChain_Residue','007A_FunctionalDomains_BINDING',\n",
    "        '007A_FunctionalDomains_MOTIF','007A_FunctionalDomains_REGION','006D_Disfulfide_Bridges_3A']\n",
    "dfs_func = dfs[dfs.index.isin(dfs_func.index)][cols]\n",
    "function_index = set(dfs_func.index.tolist())\n",
    "\n",
    "\n",
    "from functions import venn\n",
    "fig,ax = plt.subplots()\n",
    "fig.set_figheight(6)\n",
    "fig.set_figwidth(6)\n",
    "ax.set_title('Mutants and Functional Domains in fhuA\\n(main text does not include synoynmous mutants)')\n",
    "labels = venn.get_labels([ale_index,ltee_index,wt_index,function_index])\n",
    "venn.venn4(labels, names = ['ALE','LTEE','WT','FUNC'], fig = fig, ax = ax)\n",
    "fig.savefig('Manuscript/GeneratedFigures/Fig3B.png',dpi = 300,transparent = True, bbox_inches = 'tight')"
   ]
  },
  {
   "cell_type": "markdown",
   "metadata": {},
   "source": [
    "##### Panel 3C"
   ]
  },
  {
   "cell_type": "code",
   "execution_count": null,
   "metadata": {},
   "outputs": [],
   "source": [
    "from ssbio.protein.structure.structprop import StructProp\n",
    "from _membraneModule.utils import find_sfile\n",
    "from functions import protein_geometry\n",
    "import os"
   ]
  },
  {
   "cell_type": "markdown",
   "metadata": {},
   "source": [
    "### With Access to the Structure Files..\n",
    "the following code below is how Dataset S5A is generated"
   ]
  },
  {
   "cell_type": "code",
   "execution_count": null,
   "metadata": {},
   "outputs": [],
   "source": [
    "# def find_structure_file(structureId, stype):\n",
    "#     if stype =='PDB':\n",
    "#         sfile = '../../../../../../mnt/wwn-0x5000c500b96b98e1-part1/QSPACE_ecoli/structures/all_bioassemblies/{}.cif'.format(structureId)\n",
    "#         if op.exists(sfile):\n",
    "#             return sfile\n",
    "        \n",
    "#         sfile = '../../../../../../mnt/wwn-0x5000c500b96b98e1-part1/QSPACE_ecoli/structures/all_cifs/{}.cif'.format(structureId)\n",
    "#         if op.exists(sfile):\n",
    "#             return sfile\n",
    "\n",
    "#         sfile = '../../../../../../mnt/wwn-0x5000c500b96b98e1-part1/QSPACE_ecoli/structures/all_pdbs/{}.pdb'.format(structureId)\n",
    "#         if op.exists(sfile):\n",
    "#             return sfile\n",
    "#         return False\n",
    "#     if stype =='SWISS':\n",
    "#         sfile = '../../../../../../mnt/wwn-0x5000c500b96b98e1-part1/QSPACE_ecoli/structures/all_swiss/{}.pdb'.format(structureId)\n",
    "#         if op.exists(sfile):\n",
    "#             return sfile\n",
    "#         return False\n",
    "    \n",
    "#     if stype =='ITASSER':\n",
    "#         sfile = '../../../../../../mnt/wwn-0x5000c500b96b98e1-part1/QSPACE_ecoli/structures/all_itasser_clean_string_removed/{}.pdb'.format(structureId)\n",
    "#         if op.exists(sfile):\n",
    "#             return sfile\n",
    "#         return False\n",
    "    \n",
    "#     if stype =='ALPHAFOLD':\n",
    "#         sfile = '../../../../../../mnt/wwn-0x5000c500b96b98e1-part1/QSPACE_ecoli/structures/all_alphafold/{}.pdb'.format(structureId)\n",
    "#         if op.exists(sfile):\n",
    "#             return sfile\n",
    "#         return False\n",
    "#     if stype =='ALPHAFOLD_MULTIMER':\n",
    "#         alphaStructId = structureId.split('_Alpha')[0]\n",
    "#         resultFolder = '../../../../../../mnt/wwn-0x5000c500b96b98e1-part1/QSPACE_ecoli/structures/all_alphafoldMultimer/{}.result/'.format(alphaStructId)\n",
    "# #         print resultFolder\n",
    "        \n",
    "#         if not op.exists(resultFolder):\n",
    "#             return False\n",
    "        \n",
    "#         for f in os.listdir(resultFolder):\n",
    "#             if alphaStructId in f and \".pdb\" in f:\n",
    "#                 if 'rank_1' in f or \"rank_001\" in f:\n",
    "#                     sfile = op.join(resultFolder, f)\n",
    "#                     return sfile\n",
    "#         return False\n",
    "    \n",
    "# mut_col = '007B_LabMutant_ALE_VariantGS'\n",
    "# out_col = '009_LabMutant_ALE_max_GS'\n",
    "\n",
    "# def get_max_gs(mut_col, dfalldata):\n",
    "    \n",
    "#     mut_gs= dfalldata.get(mut_col).dropna().to_dict()\n",
    "#     mut_gs_max = {}\n",
    "    \n",
    "#     for glob_index, gs_info in tqdm(mut_gs.items()):\n",
    "#         if type(gs_info) == str:\n",
    "#             gs_info = ast.literal_eval(gs_info)\n",
    "#         gs_info_int = {}\n",
    "#         for mut, gs in gs_info.items():\n",
    "#             if 'TERM' in str(mut) or '*' in str(mut):\n",
    "#                 continue\n",
    "#             gs_info_int.update({mut : int(gs)})\n",
    "        \n",
    "#         if len(gs_info_int) == 0:\n",
    "#             continue\n",
    "#         gs_max = np.max(list(gs_info_int.values()))\n",
    "#         mut_gs_max.update({glob_index : gs_max})\n",
    "#     return mut_gs_max\n",
    "\n",
    "# mut_col = '007B_LabMutant_ALE_VariantGS'\n",
    "# gs_max = get_max_gs(mut_col, dfalldata= dfQSPACE_gs)\n",
    "# dfQSPACE_gs['009_gs_max_ALE'] = pd.Series(gs_max) \n",
    "\n",
    "# mut_col = '009_gs_max_ALE'\n",
    "# mut_data_col = '007B_LabMutant_ALE_VariantGS'\n",
    "# functional_col = '007A_FunctionalDomains_ACT_SITE'\n",
    "\n",
    "# dfmut= dfQSPACE_gs[dfQSPACE_gs.get(mut_col).isna() == False]\n",
    "# df_domain= dfQSPACE_gs[dfQSPACE_gs.get(functional_col).isna() == False]\n",
    "\n",
    "# checked = []\n",
    "# proximity_index = 0 \n",
    "# appender = []\n",
    "# for sId in tqdm(dfmut.structureId.unique()):\n",
    "    \n",
    "    \n",
    "#     dfs_mut = dfmut[dfmut.structureId ==sId]\n",
    "#     dfs_mut = dfs_mut[dfs_mut.structNum.isna() == False]\n",
    "#     dfs_domain = df_domain[df_domain.structureId ==sId]\n",
    "#     dfs_domain = dfs_domain[dfs_domain.structNum.isna() == False]\n",
    "    \n",
    "#     if len(dfs_domain) == 0:\n",
    "#         continue\n",
    "    \n",
    "    \n",
    "#     if 'AF' in sId and 'model_v' in sId:\n",
    "#         stype = 'ALPHAFOLD'\n",
    "#     elif 'AlphaMulti' in sId:\n",
    "#         stype ='ALPHAFOLD_MULTIMER'\n",
    "#     elif 'assembly' in sId:\n",
    "#         stype = 'PDB'\n",
    "#     elif \"clean_residues_removed\" in sId:\n",
    "#         stype = 'ITASSER'\n",
    "#     else:\n",
    "#         stype = 'SWISS'\n",
    "        \n",
    "#     sfile = find_structure_file(sId, stype=stype)\n",
    "#     s = StructProp(ident = sId,structure_path=sfile, file_type = op.basename(sfile).split('.')[-1])\n",
    "#     p = s.parse_structure()\n",
    "    \n",
    "    \n",
    "#     for Mut_Index, Mut_sfileChain_residue  in dfs_mut.sfileChain_Residue.to_dict().items():\n",
    "#         mutChain, mutRes = Mut_sfileChain_residue.split('_')\n",
    "#         mutCoord = p.first_model[mutChain][int(mutRes)]['CA'].coord\n",
    "        \n",
    "#         #find distance between mutation and all domain residues\n",
    "#         distance_dict = {}\n",
    "#         for dom_Index, dom_sfileChain_residue in dfs_domain.sfileChain_Residue.to_dict().items():\n",
    "#             domChain, domRes = dom_sfileChain_residue.split('_')\n",
    "#             domCoord = p.first_model[domChain][int(domRes)]['CA'].coord\n",
    "#             distance = protein_geometry.distance_two_points(mutCoord, domCoord)\n",
    "#             distance_dict.update({dom_Index : distance})\n",
    "            \n",
    "#         #find distance to closest domain residue\n",
    "#         for dom_Index, distance in distance_dict.items():\n",
    "#             if distance == np.min(list(distance_dict.values())) :\n",
    "#                 info_1 = dfs_mut.loc[Mut_Index,'structureId']\n",
    "#                 info_2 = dfs_mut.loc[Mut_Index,'gene']\n",
    "#                 info_3 = dfs_mut.loc[Mut_Index,'geneSeqId']\n",
    "#                 info_4 = dfs_mut.loc[Mut_Index,\"seqNum\"]\n",
    "#                 info_5 = dfs_mut.loc[Mut_Index,\"seqAA1\"]\n",
    "#                 info_6 = dfs_mut.loc[Mut_Index,\"UniqueGenomePosition\"]\n",
    "#                 info_7 = dfs_mut.loc[Mut_Index,\"sfileChain_Residue\"]\n",
    "#                 info_8 = dfs_mut.loc[Mut_Index,mut_data_col]\n",
    "#                 info_9 = dfs_mut.loc[Mut_Index,mut_col]\n",
    "#                 info_10 = dfs_domain.loc[dom_Index,functional_col]\n",
    "#                 #distance goes here\n",
    "#                 info_11 = dfs_domain.loc[dom_Index,\"sfileChain_Residue\"]\n",
    "#                 info_12 = dfs_domain.loc[dom_Index,\"seqNum\"]\n",
    "#                 info_13 = dfs_domain.loc[dom_Index,\"seqAA1\"]\n",
    "#                 info_14 = dfs_domain.loc[dom_Index,\"UniqueGenomePosition\"]\n",
    "\n",
    "#                 info = [info_1,info_2,info_3,info_4,info_5,info_6,info_7,info_8,info_9,info_10,distance,info_11,info_12,info_13,info_14]\n",
    "#                 appender.append(info)\n",
    "                \n",
    "#                 break\n",
    "                \n",
    "# dfcols = ['structureId','gene','geneSeqId','seqNum','seqAA1','UniqueGenomePosition','LabMutant_sfileChain_Residue',mut_data_col,mut_col,functional_col,'Distance','Domain_sfileChain_Residue','Domain_SeqNum','Domain_SeqAA1','Domain_009_UniqueGenomePosition']\n",
    "# dfproximity= pd.DataFrame.from_records(appender, columns = dfcols)\n",
    "\n",
    "# uniquePositions = dfproximity.get('UniqueGenomePosition').unique()\n",
    "# indexkeep = []\n",
    "# for pos in tqdm( uniquePositions):\n",
    "#     indexkeep  += [dfproximity[dfproximity.get('UniqueGenomePosition') == pos].first_valid_index()]\n",
    "# df_to_figure = dfproximity[dfproximity.index.isin(indexkeep)]\n"
   ]
  },
  {
   "cell_type": "markdown",
   "metadata": {},
   "source": [
    "### Otherwise\n",
    "... this dataset is available in the Supplemental Dataset S5A"
   ]
  },
  {
   "cell_type": "code",
   "execution_count": null,
   "metadata": {},
   "outputs": [],
   "source": [
    "df_to_figure = pd.read_csv('Manuscript/SelectedOutputData/DatasetS5A-Fig3C_ALE_007A_FunctionalDomains_ACT_SITE.csv',index_col=0)\n",
    "\n",
    "fig, ax = plt.subplots()\n",
    "fig.set_figheight(5)\n",
    "fig.set_figwidth(5)\n",
    "\n",
    "bins = np.linspace(0,100,51)\n",
    "lw = 1.5\n",
    "#synoynmous\n",
    "data=df_to_figure[df_to_figure.get('009_gs_max_ALE') ==0]\n",
    "ax.hist(data.Distance.values,bins = bins, histtype='stepfilled', color = '#dedede',edgecolor = '#dedede', alpha = 1,lw = lw,label = 'all sSNPs')\n",
    "\n",
    "\n",
    "#all nsSNPs\n",
    "data=df_to_figure[df_to_figure.get('009_gs_max_ALE') >0]\n",
    "# data=data[data.get('009_gs_max_ALE') <= 100]\n",
    "ax.hist(data.Distance.values,bins = bins, histtype='step', color = u'k', alpha = 1,lw = lw,linestyle ='-',label = 'all nsSNPs')\n",
    "\n",
    "#synoynmous\n",
    "data=df_to_figure[df_to_figure.get('009_gs_max_ALE') ==0]\n",
    "ax.hist(data.Distance.values,bins = bins, histtype='stepfilled', color = '#dedede',edgecolor = '#dedede', alpha = 1,lw = lw,label = '')\n",
    "\n",
    "\n",
    "#conservative\n",
    "data=df_to_figure[df_to_figure.get('009_gs_max_ALE') <50]\n",
    "data=data[data.get('009_gs_max_ALE') >0]\n",
    "ax.hist(data.Distance.values,bins = bins, histtype='stepfilled', color = '#6ba2cb', edgecolor = '#6ba2cb', alpha = 1,lw = lw,label = '    0 < GS < 50')\n",
    "\n",
    "\n",
    "#moderately conservative\n",
    "data=df_to_figure[df_to_figure.get('009_gs_max_ALE') <100]\n",
    "data=data[data.get('009_gs_max_ALE') >= 50]\n",
    "ax.hist(data.Distance.values,bins = bins, histtype='stepfilled', color = '#fff1aa', edgecolor = '#fff1aa', alpha = 1,lw = lw,label = '  50 $\\leq$ GS < 100')\n",
    "\n",
    "#conservative\n",
    "data=df_to_figure[df_to_figure.get('009_gs_max_ALE') <50]\n",
    "data=data[data.get('009_gs_max_ALE') >0]\n",
    "ax.hist(data.Distance.values,bins = bins, histtype='stepfilled', color = '#6ba2cb', edgecolor = '#6ba2cb', alpha = 1,lw = lw,label = '')\n",
    "\n",
    "\n",
    "\n",
    "\n",
    "#moderately radical\n",
    "data=df_to_figure[df_to_figure.get('009_gs_max_ALE') <150]\n",
    "data=data[data.get('009_gs_max_ALE') >= 100]\n",
    "ax.hist(data.Distance.values,bins = bins, histtype='stepfilled', color = '#fa9b58', edgecolor = '#fa9b58', alpha = 1,lw = lw,label = '100 $\\leq$ GS < 150')\n",
    "\n",
    "\n",
    "#radical\n",
    "data=df_to_figure[df_to_figure.get('009_gs_max_ALE') >150]\n",
    "# data=data[data.get('009_gs_max_ALE') <= 100]\n",
    "ax.hist(data.Distance.values,bins = bins, histtype='stepfilled', color = '#d22b27', edgecolor = u'#d22b27', alpha =1,lw = lw,label = '150 $\\leq$ GS')\n",
    "\n",
    "#all nsSNPs\n",
    "data=df_to_figure[df_to_figure.get('009_gs_max_ALE') >0]\n",
    "# data=data[data.get('009_gs_max_ALE') <= 100]\n",
    "ax.hist(data.Distance.values,bins = bins, histtype='step', color = u'k', alpha = 1,lw = lw,linestyle ='-',label = '')\n",
    "\n",
    "ax.set_xticks(np.linspace(0,98,15))\n",
    "ax.set_xticklabels([int(x) for x in np.linspace(0,14,15)])\n",
    "ax.legend(loc =(0.43,0.22))\n",
    "\n",
    "# ax.set_yticklabels('')\n",
    "# ax.set_xticklabels('')\n",
    "ax.tick_params(axis='both', which='major', labelsize=14,length = 8, width = 1.5,)\n",
    "ax.tick_params(axis='both', which='minor', labelsize=14,length = 4, width = 1.5)\n",
    "ax.set_xlabel('Distance from active site in AA-lengths', size = 15)\n",
    "ax.set_ylabel('Number of ALE mutations', size = 15)\n",
    "\n",
    "\n",
    "fig.savefig('Manuscript/GeneratedFigures/Fig3C.png',dpi = 300,transparent = True, bbox_inches = 'tight')\n",
    "plt.show()"
   ]
  },
  {
   "cell_type": "markdown",
   "metadata": {},
   "source": [
    "# Fig. 4"
   ]
  },
  {
   "cell_type": "markdown",
   "metadata": {},
   "source": [
    "##### Panel 4A"
   ]
  },
  {
   "cell_type": "code",
   "execution_count": null,
   "metadata": {},
   "outputs": [],
   "source": [
    "import json\n",
    "with open('Manuscript/SelectedOutputData/005A_potentialMembraneStructuresAllSources.json',\"r\") as f:\n",
    "    kw_membrane = json.load(f)\n",
    "\n",
    "kw_go = set(kw_membrane['GO_structures'])\n",
    "kw_iml = set(kw_membrane['IML_structures'])\n",
    "kw_uni = set(kw_membrane['UNI_structures'])\n",
    "kw_eco = set(kw_membrane['ECO_structures'])\n",
    "\n",
    "from functions import venn\n",
    "fig,ax = plt.subplots()\n",
    "fig.set_figheight(6)\n",
    "fig.set_figwidth(6)\n",
    "ax.set_title('Identify Membrane Structures')\n",
    "labels = venn.get_labels([kw_uni,kw_iml,kw_go,kw_eco])\n",
    "venn.venn4(labels, names = ['UniProt','iML1515','Gene Onotology','EcoCyc'], fig = fig, ax = ax)\n",
    "fig.savefig('Manuscript/GeneratedFigures/Fig4A.png',dpi = 300,transparent = True, bbox_inches = 'tight')"
   ]
  },
  {
   "cell_type": "markdown",
   "metadata": {},
   "source": [
    "#### Panel 4E"
   ]
  },
  {
   "cell_type": "code",
   "execution_count": null,
   "metadata": {},
   "outputs": [],
   "source": [
    "from _figuresModule import _fig4\n",
    "reload(_fig4)"
   ]
  },
  {
   "cell_type": "code",
   "execution_count": null,
   "metadata": {},
   "outputs": [],
   "source": [
    "fig, ax = _fig4.fig4E_aa(dfQSPACE_gs,fig = False, ax = False, save = False)\n",
    "fig.savefig('Manuscript/GeneratedFigures/Fig4E_AAs.png',dpi = 300,transparent = True, bbox_inches = 'tight')\n"
   ]
  },
  {
   "cell_type": "code",
   "execution_count": null,
   "metadata": {},
   "outputs": [],
   "source": [
    "fig, ax = _fig4.fig4E_prot(dfQSPACE_gs,fig = False, ax = False, save = False,legend = False)\n",
    "fig.savefig('Manuscript/GeneratedFigures/Fig4E_Proteins.png',dpi = 300,transparent = True, bbox_inches = 'tight')\n"
   ]
  }
 ],
 "metadata": {
  "kernelspec": {
   "display_name": "Python 3",
   "language": "python",
   "name": "python3"
  },
  "language_info": {
   "codemirror_mode": {
    "name": "ipython",
    "version": 3
   },
   "file_extension": ".py",
   "mimetype": "text/x-python",
   "name": "python",
   "nbconvert_exporter": "python",
   "pygments_lexer": "ipython3",
   "version": "3.7.9"
  }
 },
 "nbformat": 4,
 "nbformat_minor": 4
}
